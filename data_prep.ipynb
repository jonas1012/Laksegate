{
 "cells": [
  {
   "cell_type": "markdown",
   "id": "8c66e505",
   "metadata": {},
   "source": [
    "# Data preparation\n",
    "Importing the notebooks for preparing the data. The data preparation should combine different csv files into a single combined csv file."
   ]
  },
  {
   "cell_type": "code",
   "execution_count": 14,
   "id": "2bf4f135",
   "metadata": {},
   "outputs": [],
   "source": [
    "import pandas as pd\n",
    "\n",
    "# Directory containing the CSV files\n",
    "csv_directory_NO2 = './Air Quality dataset/NO2'  # Update this path to your folder containing CSV files\n",
    "csv_directory_NOx = './Air Quality dataset/NOx'  # Update this path to your folder containing CSV files\n",
    "output_file = './combined_data_full_wide.csv'  # Output file path\n",
    "\n",
    "# Initialize an empty DataFrame for combining data\n",
    "combined_df = pd.DataFrame()\n"
   ]
  },
  {
   "cell_type": "markdown",
   "id": "de2f913b",
   "metadata": {},
   "source": [
    "The following code should create a date variable, that stretches from the earliest recorded date to the latest"
   ]
  },
  {
   "cell_type": "code",
   "execution_count": 15,
   "id": "cf6d475a",
   "metadata": {},
   "outputs": [
    {
     "name": "stdout",
     "output_type": "stream",
     "text": [
      "Combined DataFrame with Date Range:\n",
      "        Date\n",
      "0 2005-01-01\n",
      "1 2005-01-02\n",
      "2 2005-01-03\n",
      "3 2005-01-04\n",
      "4 2005-01-05\n",
      "           Date\n",
      "6934 2023-12-27\n",
      "6935 2023-12-28\n",
      "6936 2023-12-29\n",
      "6937 2023-12-30\n",
      "6938 2023-12-31\n"
     ]
    }
   ],
   "source": [
    "import os\n",
    "\n",
    "# List to store all dates\n",
    "all_dates = []\n",
    "\n",
    "# Iterate through all CSV files in both directories\n",
    "for file in os.listdir(csv_directory_NO2):\n",
    "    if file.endswith('.csv'):\n",
    "        file_path = os.path.join(csv_directory_NO2, file)\n",
    "        # Read the CSV file\n",
    "        df = pd.read_csv(file_path)\n",
    "        if 'DatoMaerke' in df.columns:\n",
    "            all_dates.extend(pd.to_datetime(df['DatoMaerke']).tolist())\n",
    "for file in os.listdir(csv_directory_NOx):\n",
    "    if file.endswith('.csv'):\n",
    "        file_path = os.path.join(csv_directory_NOx, file)\n",
    "        # Read the CSV file\n",
    "        df = pd.read_csv(file_path)\n",
    "        if 'DatoMaerke' in df.columns:\n",
    "            all_dates.extend(pd.to_datetime(df['DatoMaerke']).tolist())\n",
    "\n",
    "# Create a date range from the earliest to the latest date\n",
    "if all_dates:\n",
    "    min_date = min(all_dates)\n",
    "    max_date = max(all_dates)\n",
    "    date_range = pd.date_range(start=min_date, end=max_date)\n",
    "\n",
    "    # Add the date range to the combined_df\n",
    "    combined_df['Date'] = date_range\n",
    "\n",
    "# Print the first few rows of the combined DataFrame\n",
    "print(\"Combined DataFrame with Date Range:\")\n",
    "print(combined_df.head())\n",
    "print(combined_df.tail())"
   ]
  },
  {
   "cell_type": "markdown",
   "id": "fc58a00d",
   "metadata": {},
   "source": [
    "Now, the different NO2 values should be added. The NO2 values are stored in the column called 'NO2 ppb', and each new column should have the name of the file that it was extracted from."
   ]
  },
  {
   "cell_type": "code",
   "execution_count": 16,
   "id": "a0156b27",
   "metadata": {},
   "outputs": [
    {
     "name": "stdout",
     "output_type": "stream",
     "text": [
      "Updated Combined DataFrame with NO2 Values:\n",
      "        Date  NO2_HCAB  NO2_JAGT  NO2_HCØ  NO2_HVID\n",
      "0 2005-01-01       NaN       NaN      NaN       NaN\n",
      "1 2005-01-02       NaN       NaN      NaN       NaN\n",
      "2 2005-01-03       NaN       NaN      NaN       NaN\n",
      "3 2005-01-04       NaN       NaN      NaN       NaN\n",
      "4 2005-01-05       NaN       NaN      NaN       NaN\n"
     ]
    }
   ],
   "source": [
    "# Iterate through all CSV files in the directory\n",
    "for file in os.listdir(csv_directory_NO2):\n",
    "    if file.endswith('.csv'):\n",
    "        file_path = os.path.join(csv_directory_NO2, file)\n",
    "        # Read the CSV file\n",
    "        df = pd.read_csv(file_path)\n",
    "        # Ensure the date column is in datetime format\n",
    "        df['DatoMaerke'] = pd.to_datetime(df['DatoMaerke'])\n",
    "        # Set the date column as the index\n",
    "        df.set_index('DatoMaerke', inplace=True)\n",
    "        # Reindex to match the combined_df date range\n",
    "        df = df.reindex(date_range)\n",
    "        # Add the NO2 values as a new column in combined_df\n",
    "        column_name = os.path.splitext(file)[0]  # Use the file name (without extension) as the column name\n",
    "        combined_df[column_name] = df['NO2 ppb'].values\n",
    "\n",
    "# Rename the columns to 'NO2_HCAB', 'NO2_JAGT', 'NO2_HCØ' and 'NO2_HVID'\n",
    "combined_df = combined_df.rename(columns={combined_df.columns[1]: 'NO2_HCAB',\n",
    "                       combined_df.columns[2]: 'NO2_JAGT',\n",
    "                       combined_df.columns[3]: 'NO2_HCØ',\n",
    "                       combined_df.columns[4]: 'NO2_HVID'})\n",
    "\n",
    "# Print the first few rows of the updated combined DataFrame\n",
    "print(\"Updated Combined DataFrame with NO2 Values:\")\n",
    "print(combined_df.head())"
   ]
  },
  {
   "cell_type": "markdown",
   "id": "db87f1a2",
   "metadata": {},
   "source": [
    "The NOx should also be added in the same way as the NO2 data."
   ]
  },
  {
   "cell_type": "code",
   "execution_count": 17,
   "id": "7bf5afd1",
   "metadata": {},
   "outputs": [
    {
     "name": "stdout",
     "output_type": "stream",
     "text": [
      "Updated Combined DataFrame with NOx Values:\n",
      "        Date  NO2_HCAB  NO2_JAGT  NO2_HCØ  NO2_HVID   NOx_HCAB   NOx_JAGT  \\\n",
      "0 2005-01-01       NaN       NaN      NaN       NaN  43.682987  38.077831   \n",
      "1 2005-01-02       NaN       NaN      NaN       NaN  16.190796  12.225522   \n",
      "2 2005-01-03       NaN       NaN      NaN       NaN  34.915861  15.252096   \n",
      "3 2005-01-04       NaN       NaN      NaN       NaN  32.540399  18.183066   \n",
      "4 2005-01-05       NaN       NaN      NaN       NaN  55.714600  33.479079   \n",
      "\n",
      "     NOx_HCØ  NOx_HVID  \n",
      "0  10.268396       NaN  \n",
      "1   5.092584       NaN  \n",
      "2   8.584316       NaN  \n",
      "3   8.705654       NaN  \n",
      "4  12.964224       NaN  \n"
     ]
    }
   ],
   "source": [
    "csv_directory_NOx = './Air Quality dataset/NOx' \n",
    "\n",
    "# Iterate through all CSV files in the directory\n",
    "for file in os.listdir(csv_directory_NOx):\n",
    "    if file.endswith('.csv'):\n",
    "        file_path = os.path.join(csv_directory_NOx, file)\n",
    "        # Read the CSV file\n",
    "        df = pd.read_csv(file_path)\n",
    "        # Ensure the date column is in datetime format\n",
    "        df['DatoMaerke'] = pd.to_datetime(df['DatoMaerke'])\n",
    "        # Set the date column as the index\n",
    "        df.set_index('DatoMaerke', inplace=True)\n",
    "        # Reindex to match the combined_df date range\n",
    "        df = df.reindex(date_range)\n",
    "        # Add the NO2 values as a new column in combined_df\n",
    "        column_name = os.path.splitext(file)[0]  # Use the file name (without extension) as the column name\n",
    "        combined_df[column_name] = df['NOx ppb'].values\n",
    "\n",
    "# Rename the columns appropriately for NOx data\n",
    "combined_df = combined_df.rename(columns={combined_df.columns[5]: 'NOx_HCAB',\n",
    "                       combined_df.columns[6]: 'NOx_JAGT',\n",
    "                       combined_df.columns[7]: 'NOx_HCØ',\n",
    "                       combined_df.columns[8]: 'NOx_HVID'})\n",
    "\n",
    "# Print the first few rows of the updated combined DataFrame\n",
    "print(\"Updated Combined DataFrame with NOx Values:\")\n",
    "print(combined_df.head())"
   ]
  },
  {
   "cell_type": "markdown",
   "id": "bb36022e",
   "metadata": {},
   "source": [
    "## Adding a weekday column in the dataset"
   ]
  },
  {
   "cell_type": "code",
   "execution_count": 18,
   "id": "799b85e3",
   "metadata": {},
   "outputs": [
    {
     "name": "stdout",
     "output_type": "stream",
     "text": [
      "Combined DataFrame with Weekday Column:\n",
      "        Date    Weekday  NO2_HCAB  NO2_JAGT  NO2_HCØ  NO2_HVID   NOx_HCAB  \\\n",
      "0 2005-01-01   Saturday       NaN       NaN      NaN       NaN  43.682987   \n",
      "1 2005-01-02     Sunday       NaN       NaN      NaN       NaN  16.190796   \n",
      "2 2005-01-03     Monday       NaN       NaN      NaN       NaN  34.915861   \n",
      "3 2005-01-04    Tuesday       NaN       NaN      NaN       NaN  32.540399   \n",
      "4 2005-01-05  Wednesday       NaN       NaN      NaN       NaN  55.714600   \n",
      "\n",
      "    NOx_JAGT    NOx_HCØ  NOx_HVID  \n",
      "0  38.077831  10.268396       NaN  \n",
      "1  12.225522   5.092584       NaN  \n",
      "2  15.252096   8.584316       NaN  \n",
      "3  18.183066   8.705654       NaN  \n",
      "4  33.479079  12.964224       NaN  \n"
     ]
    }
   ],
   "source": [
    "# Add a new column for the weekday corresponding to the 'Date' column\n",
    "combined_df['Weekday'] = combined_df['Date'].dt.day_name()\n",
    "\n",
    "# Reorder columns to make 'Weekday' the second column\n",
    "columns = list(combined_df.columns)\n",
    "columns.insert(1, columns.pop(columns.index('Weekday')))\n",
    "combined_df = combined_df[columns]\n",
    "\n",
    "# Print the first few rows to verify the new column\n",
    "print(\"Combined DataFrame with Weekday Column:\")\n",
    "print(combined_df.head())"
   ]
  },
  {
   "cell_type": "markdown",
   "id": "9a94df56",
   "metadata": {},
   "source": [
    "## Saving the data\n",
    "Now, the new data should be saved as a new csv-file called combined_data.csv"
   ]
  },
  {
   "cell_type": "code",
   "execution_count": 19,
   "id": "2b79b304",
   "metadata": {},
   "outputs": [
    {
     "name": "stdout",
     "output_type": "stream",
     "text": [
      "Data has been saved to ./combined_data_full_wide.csv\n"
     ]
    }
   ],
   "source": [
    "combined_df.to_csv(output_file, index=False)\n",
    "print(f\"Data has been saved to {output_file}\")"
   ]
  }
 ],
 "metadata": {
  "kernelspec": {
   "display_name": "Python 3",
   "language": "python",
   "name": "python3"
  },
  "language_info": {
   "codemirror_mode": {
    "name": "ipython",
    "version": 3
   },
   "file_extension": ".py",
   "mimetype": "text/x-python",
   "name": "python",
   "nbconvert_exporter": "python",
   "pygments_lexer": "ipython3",
   "version": "3.11.2"
  }
 },
 "nbformat": 4,
 "nbformat_minor": 5
}
